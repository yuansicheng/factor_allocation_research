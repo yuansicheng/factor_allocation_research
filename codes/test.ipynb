{
 "cells": [
  {
   "cell_type": "markdown",
   "metadata": {},
   "source": [
    "# 宏观因子资产配置研究"
   ]
  },
  {
   "cell_type": "markdown",
   "metadata": {},
   "source": [
    "更新日志\n",
    "- 2022.10.22 \n",
    "    - 梳理工作内容并搭建研究框架"
   ]
  },
  {
   "cell_type": "code",
   "execution_count": 1,
   "metadata": {},
   "outputs": [],
   "source": [
    "import os, sys, argparse, logging\n",
    "\n",
    "# 设置logging格式和级别\n",
    "logging.basicConfig(\n",
    "    level=logging.DEBUG,\n",
    "    # level=logging.INFO, \n",
    "    format='%(filename)s-line%(lineno)d %(levelname)s: %(message)s'\n",
    "    )\n",
    "\n",
    "logging.disable(logging.DEBUG)\n",
    "logging.disable(logging.INFO)\n",
    "\n",
    "import matplotlib\n",
    "import matplotlib.pyplot as plt\n",
    "\n",
    "import pandas as pd\n",
    "import numpy as np\n",
    "from datetime import datetime\n",
    "from copy import deepcopy\n",
    "\n",
    "logging.disable(logging.NOTSET)\n",
    "\n",
    "# 首先将framework的目录加进sys.path中，方便使用相对路径导入\n",
    "framework_path = os.path.join(os.path.abspath(''), '../../../../国君研究所/工作/FOF_portfolio_toolbox/framework')\n",
    "if framework_path not in sys.path:\n",
    "    sys.path.append(framework_path)\n",
    "\n",
    "this_path = os.path.abspath('.')\n",
    "if this_path not in sys.path:\n",
    "    sys.path.append(this_path)\n",
    "\n",
    "from factor_portfolio import FactorExposureAlg, MvoAlg\n"
   ]
  },
  {
   "cell_type": "code",
   "execution_count": 2,
   "metadata": {},
   "outputs": [
    {
     "name": "stdout",
     "output_type": "stream",
     "text": [
      "init YamlSvc\n",
      "init DateSvc\n"
     ]
    },
    {
     "name": "stderr",
     "output_type": "stream",
     "text": [
      "lxw_winddb_sql_raw_data_svc.py-line69 DEBUG: raw_data_svc.sqlQuery: SELECT TRADE_DAYS FROM asharecalendar WHERE S_INFO_EXCHMARKET='SSE' ORDER BY TRADE_DAYS\n"
     ]
    },
    {
     "name": "stdout",
     "output_type": "stream",
     "text": [
      "init YamlSvc\n",
      "init LxwWinddbRawDataSvc\n",
      "init MysqlDbConnectorSvc\n",
      "init ConstantSvc\n"
     ]
    },
    {
     "name": "stderr",
     "output_type": "stream",
     "text": [
      "date_svc.py-line31 INFO: DateSvc: set trade days\n"
     ]
    }
   ],
   "source": [
    "from component.asset.asset import Asset\n",
    "\n",
    "from import_func import getSvc\n",
    "date_svc = getSvc('DateSvc')\n",
    "raw_data_svc = getSvc('LxwWinddbRawDataSvc')\n",
    "constant_svc = getSvc('ConstantSvc')\n",
    "\n",
    "date_svc.setTradeDays(raw_data_svc.getTradeDays())"
   ]
  },
  {
   "cell_type": "markdown",
   "metadata": {},
   "source": [
    "## 1. 选择待研究的大类资产(国内大类资产)"
   ]
  },
  {
   "cell_type": "markdown",
   "metadata": {},
   "source": [
    "|No.    |资产类别       |资产标的       |权重约束   |\n",
    "|--     |--             |--            |--         |\n",
    "|1      |大市值股票     |沪深300指数     ||\n",
    "|2      |中小市值股票   |中证500指数\t   |\n",
    "|3      |利率债         |中债国债总指数  ||\n",
    "|4      |信用债         |中债信用债总指数|\t|\n",
    "|5      |商品\t        |南华综合指数\t||\n",
    "|6      |黄金\t        |Au9999\t||"
   ]
  },
  {
   "cell_type": "markdown",
   "metadata": {},
   "source": [
    "### 1.1 读入资产原始数据\n",
    "所有数据存放在../data/assets中"
   ]
  },
  {
   "cell_type": "code",
   "execution_count": 3,
   "metadata": {},
   "outputs": [
    {
     "name": "stderr",
     "output_type": "stream",
     "text": [
      "1532541054.py-line17 DEBUG: {'Au9999': <component.asset.asset.Asset object at 0x0000020BB5688DC0>, '中债信用债总指数': <component.asset.asset.Asset object at 0x0000020BFFF9AFD0>, '中债国债总指数': <component.asset.asset.Asset object at 0x0000020B9010AC10>, '中证500指数': <component.asset.asset.Asset object at 0x0000020B9035B640>, '南华综合指数': <component.asset.asset.Asset object at 0x0000020B9024E460>, '沪深300指数': <component.asset.asset.Asset object at 0x0000020B900D3C40>}\n"
     ]
    }
   ],
   "source": [
    "# 读入资产原始数据\n",
    "asset_raw_data_path = os.path.join(this_path, '../data/assets')\n",
    "asset_dict = {}\n",
    "for file_name in os.listdir(asset_raw_data_path):\n",
    "    # 读入原始数据\n",
    "    asset_name = file_name.split('.')[0]\n",
    "    raw_data = pd.read_excel(os.path.join(asset_raw_data_path,file_name), index_col=0)\n",
    "    raw_nav_data = raw_data['收盘价']\n",
    "    raw_nav_data.index.name = 'date'\n",
    "    \n",
    "    # 创建资产实体并加入dict\n",
    "    asset_obj = Asset(asset_name)\n",
    "    asset_obj.setRawNavData(raw_nav_data)\n",
    "    \n",
    "    asset_dict[asset_name] = asset_obj\n",
    "\n",
    "logging.debug(asset_dict)"
   ]
  },
  {
   "cell_type": "markdown",
   "metadata": {},
   "source": [
    "## 2. 构造宏观因子组合"
   ]
  },
  {
   "cell_type": "markdown",
   "metadata": {},
   "source": [
    "### 2.1 读入因子原始数据"
   ]
  },
  {
   "cell_type": "code",
   "execution_count": 4,
   "metadata": {},
   "outputs": [
    {
     "name": "stderr",
     "output_type": "stream",
     "text": [
      "3414513511.py-line21 DEBUG: <component.asset.asset.Asset object at 0x0000020B905782E0>\n"
     ]
    }
   ],
   "source": [
    "# 载入因子\n",
    "factor_raw_data_path = os.path.join(this_path, '../data/factors')\n",
    "factor_dict = {}\n",
    "for file_name in os.listdir(factor_raw_data_path):\n",
    "    # 读入原始数据\n",
    "    factor_name = file_name.split('.')[0]\n",
    "    raw_data = pd.read_excel(os.path.join(factor_raw_data_path,file_name), index_col=0)\n",
    "    raw_data.index.name = 'date'\n",
    "    raw_data = raw_data.iloc[:, 0]\n",
    "\n",
    "    # 去除第一行空值, 去除0值防止除0错误\n",
    "    raw_data = raw_data.iloc[1:]\n",
    "    raw_data.loc[raw_data==0] = 1e-6\n",
    "    \n",
    "    # 创建因子实体并加入dict\n",
    "    factor_obj = Asset(factor_name)\n",
    "    factor_obj.setRawNavData(raw_data)\n",
    "    \n",
    "    factor_dict[factor_name] = factor_obj\n",
    "\n",
    "logging.debug(factor_obj)"
   ]
  },
  {
   "cell_type": "markdown",
   "metadata": {},
   "source": [
    "### 2.2 宏观因子组合"
   ]
  },
  {
   "cell_type": "code",
   "execution_count": 5,
   "metadata": {},
   "outputs": [
    {
     "name": "stderr",
     "output_type": "stream",
     "text": [
      "alg_base.py-line19 INFO: alg mvo: init args\n",
      "factor_portfolio.py-line48 DEBUG: mu = growth    -1.000000e+00\n",
      "real      1.135780e+114\n",
      "dtype: float64\n",
      "factor_portfolio.py-line49 DEBUG: s =             growth       real\n",
      "growth  418.579698   1.799552\n",
      "real      1.799552  28.180601\n"
     ]
    },
    {
     "name": "stdout",
     "output_type": "stream",
     "text": [
      "===============================================================================\n",
      "                                     CVXPY                                     \n",
      "                                     v1.2.1                                    \n",
      "===============================================================================\n",
      "(CVXPY) Oct 23 12:00:01 PM: Your problem has 3 variables, 5 constraints, and 0 parameters.\n",
      "(CVXPY) Oct 23 12:00:01 PM: It is compliant with the following grammars: DCP, DQCP\n",
      "(CVXPY) Oct 23 12:00:01 PM: (If you need to solve this problem multiple times, but with different data, consider using parameters.)\n",
      "(CVXPY) Oct 23 12:00:01 PM: CVXPY will first compile your problem; then, it will invoke a numerical solver to obtain a solution.\n",
      "-------------------------------------------------------------------------------\n",
      "                                  Compilation                                  \n",
      "-------------------------------------------------------------------------------\n",
      "(CVXPY) Oct 23 12:00:01 PM: Compiling problem (target solver=OSQP).\n",
      "(CVXPY) Oct 23 12:00:01 PM: Reduction chain: CvxAttr2Constr -> Qp2SymbolicQp -> QpMatrixStuffing -> OSQP\n",
      "(CVXPY) Oct 23 12:00:01 PM: Applying reduction CvxAttr2Constr\n",
      "(CVXPY) Oct 23 12:00:01 PM: Applying reduction Qp2SymbolicQp\n",
      "(CVXPY) Oct 23 12:00:01 PM: Applying reduction QpMatrixStuffing\n",
      "(CVXPY) Oct 23 12:00:01 PM: Applying reduction OSQP\n",
      "(CVXPY) Oct 23 12:00:01 PM: Finished problem compilation (took 2.793e-02 seconds).\n",
      "-------------------------------------------------------------------------------\n",
      "                                Numerical solver                               \n",
      "-------------------------------------------------------------------------------\n",
      "(CVXPY) Oct 23 12:00:01 PM: Invoking solver OSQP  to obtain a solution.\n",
      "-----------------------------------------------------------------\n",
      "           OSQP v0.6.2  -  Operator Splitting QP Solver\n",
      "              (c) Bartolomeo Stellato,  Goran Banjac\n",
      "        University of Oxford  -  Stanford University 2021\n",
      "-----------------------------------------------------------------\n",
      "problem:  variables n = 3, constraints m = 7\n",
      "          nnz(P) + nnz(A) = 17\n",
      "settings: linear system solver = qdldl,\n",
      "          eps_abs = 1.0e-05, eps_rel = 1.0e-05,\n",
      "          eps_prim_inf = 1.0e-04, eps_dual_inf = 1.0e-04,\n",
      "          rho = 1.00e-01 (adaptive),\n",
      "          sigma = 1.00e-06, alpha = 1.60, max_iter = 10000\n",
      "          check_termination: on (interval 25),\n",
      "          scaling: on, scaled_termination: off\n",
      "          warm start: on, polish: on, time_limit: off\n",
      "\n",
      "iter   objective    pri res    dua res    rho        time\n",
      "   1   0.0000e+00   1.00e+00   1.14e+76   1.00e-01   7.96e-05s\n",
      "  25   2.1433e+09   3.08e-04   5.38e+70   1.00e-01   1.39e-04s\n",
      "\n",
      "status:               problem non convex\n",
      "number of iterations: 25\n",
      "run time:             1.85e-04s\n",
      "optimal rho estimate: 1.75e-03\n",
      "\n"
     ]
    },
    {
     "ename": "SolverError",
     "evalue": "Solver 'OSQP' failed. Try another solver, or solve with verbose=True for more information.",
     "output_type": "error",
     "traceback": [
      "\u001b[1;31m---------------------------------------------------------------------------\u001b[0m",
      "\u001b[1;31mSolverError\u001b[0m                               Traceback (most recent call last)",
      "\u001b[1;32mc:\\Users\\yuans\\Documents\\SynologyDrive\\实习\\国君自营\\工作\\因子配置\\codes\\test.ipynb Cell 13'\u001b[0m in \u001b[0;36m<cell line: 15>\u001b[1;34m()\u001b[0m\n\u001b[0;32m     <a href='vscode-notebook-cell:/c%3A/Users/yuans/Documents/SynologyDrive/%E5%AE%9E%E4%B9%A0/%E5%9B%BD%E5%90%9B%E8%87%AA%E8%90%A5/%E5%B7%A5%E4%BD%9C/%E5%9B%A0%E5%AD%90%E9%85%8D%E7%BD%AE/codes/test.ipynb#ch0000015?line=11'>12</a>\u001b[0m factor_data \u001b[39m=\u001b[39m {factor: factor_obj\u001b[39m.\u001b[39mgetUsableNavData() \u001b[39mfor\u001b[39;00m factor, factor_obj \u001b[39min\u001b[39;00m factor_dict\u001b[39m.\u001b[39mitems()}\n\u001b[0;32m     <a href='vscode-notebook-cell:/c%3A/Users/yuans/Documents/SynologyDrive/%E5%AE%9E%E4%B9%A0/%E5%9B%BD%E5%90%9B%E8%87%AA%E8%90%A5/%E5%B7%A5%E4%BD%9C/%E5%9B%A0%E5%AD%90%E9%85%8D%E7%BD%AE/codes/test.ipynb#ch0000015?line=12'>13</a>\u001b[0m \u001b[39m# logging.debug(factor_data)\u001b[39;00m\n\u001b[1;32m---> <a href='vscode-notebook-cell:/c%3A/Users/yuans/Documents/SynologyDrive/%E5%AE%9E%E4%B9%A0/%E5%9B%BD%E5%90%9B%E8%87%AA%E8%90%A5/%E5%B7%A5%E4%BD%9C/%E5%9B%A0%E5%AD%90%E9%85%8D%E7%BD%AE/codes/test.ipynb#ch0000015?line=14'>15</a>\u001b[0m factor_portfolio \u001b[39m=\u001b[39m mvo_alg\u001b[39m.\u001b[39;49mrun(factor_data, returns_data\u001b[39m=\u001b[39;49m\u001b[39mTrue\u001b[39;49;00m, max_sharp\u001b[39m=\u001b[39;49m\u001b[39mTrue\u001b[39;49;00m, verbose\u001b[39m=\u001b[39;49m\u001b[39mTrue\u001b[39;49;00m)\n\u001b[0;32m     <a href='vscode-notebook-cell:/c%3A/Users/yuans/Documents/SynologyDrive/%E5%AE%9E%E4%B9%A0/%E5%9B%BD%E5%90%9B%E8%87%AA%E8%90%A5/%E5%B7%A5%E4%BD%9C/%E5%9B%A0%E5%AD%90%E9%85%8D%E7%BD%AE/codes/test.ipynb#ch0000015?line=15'>16</a>\u001b[0m logging\u001b[39m.\u001b[39mdebug(factor_portfolio)\n",
      "File \u001b[1;32mc:\\Users\\yuans\\Documents\\SynologyDrive\\实习\\国君自营\\工作\\因子配置\\codes\\factor_portfolio.py:59\u001b[0m, in \u001b[0;36mMvoAlg.run\u001b[1;34m(self, data, weight_bounds, total_weight, target_return, target_risk, returns_data, mu, s, max_sharp, **kwargs)\u001b[0m\n\u001b[0;32m     <a href='file:///c%3A/Users/yuans/Documents/SynologyDrive/%E5%AE%9E%E4%B9%A0/%E5%9B%BD%E5%90%9B%E8%87%AA%E8%90%A5/%E5%B7%A5%E4%BD%9C/%E5%9B%A0%E5%AD%90%E9%85%8D%E7%BD%AE/codes/factor_portfolio.py?line=51'>52</a>\u001b[0m \u001b[39m# if total_weight:\u001b[39;00m\n\u001b[0;32m     <a href='file:///c%3A/Users/yuans/Documents/SynologyDrive/%E5%AE%9E%E4%B9%A0/%E5%9B%BD%E5%90%9B%E8%87%AA%E8%90%A5/%E5%B7%A5%E4%BD%9C/%E5%9B%A0%E5%AD%90%E9%85%8D%E7%BD%AE/codes/factor_portfolio.py?line=52'>53</a>\u001b[0m \u001b[39m#     sector_mapper = {a:'all' for a in data}\u001b[39;00m\n\u001b[0;32m     <a href='file:///c%3A/Users/yuans/Documents/SynologyDrive/%E5%AE%9E%E4%B9%A0/%E5%9B%BD%E5%90%9B%E8%87%AA%E8%90%A5/%E5%B7%A5%E4%BD%9C/%E5%9B%A0%E5%AD%90%E9%85%8D%E7%BD%AE/codes/factor_portfolio.py?line=53'>54</a>\u001b[0m \u001b[39m#     ef.add_sector_constraints(sector_mapper, sector_lower={'all':total_weight[0]}, sector_upper={'all':total_weight[1]})\u001b[39;00m\n\u001b[0;32m     <a href='file:///c%3A/Users/yuans/Documents/SynologyDrive/%E5%AE%9E%E4%B9%A0/%E5%9B%BD%E5%90%9B%E8%87%AA%E8%90%A5/%E5%B7%A5%E4%BD%9C/%E5%9B%A0%E5%AD%90%E9%85%8D%E7%BD%AE/codes/factor_portfolio.py?line=54'>55</a>\u001b[0m \n\u001b[0;32m     <a href='file:///c%3A/Users/yuans/Documents/SynologyDrive/%E5%AE%9E%E4%B9%A0/%E5%9B%BD%E5%90%9B%E8%87%AA%E8%90%A5/%E5%B7%A5%E4%BD%9C/%E5%9B%A0%E5%AD%90%E9%85%8D%E7%BD%AE/codes/factor_portfolio.py?line=55'>56</a>\u001b[0m \u001b[39m# plot_efficient_frontier(ef)\u001b[39;00m\n\u001b[0;32m     <a href='file:///c%3A/Users/yuans/Documents/SynologyDrive/%E5%AE%9E%E4%B9%A0/%E5%9B%BD%E5%90%9B%E8%87%AA%E8%90%A5/%E5%B7%A5%E4%BD%9C/%E5%9B%A0%E5%AD%90%E9%85%8D%E7%BD%AE/codes/factor_portfolio.py?line=57'>58</a>\u001b[0m \u001b[39mif\u001b[39;00m max_sharp:\n\u001b[1;32m---> <a href='file:///c%3A/Users/yuans/Documents/SynologyDrive/%E5%AE%9E%E4%B9%A0/%E5%9B%BD%E5%90%9B%E8%87%AA%E8%90%A5/%E5%B7%A5%E4%BD%9C/%E5%9B%A0%E5%AD%90%E9%85%8D%E7%BD%AE/codes/factor_portfolio.py?line=58'>59</a>\u001b[0m     _ \u001b[39m=\u001b[39m ef\u001b[39m.\u001b[39;49mmax_sharpe()\n\u001b[0;32m     <a href='file:///c%3A/Users/yuans/Documents/SynologyDrive/%E5%AE%9E%E4%B9%A0/%E5%9B%BD%E5%90%9B%E8%87%AA%E8%90%A5/%E5%B7%A5%E4%BD%9C/%E5%9B%A0%E5%AD%90%E9%85%8D%E7%BD%AE/codes/factor_portfolio.py?line=59'>60</a>\u001b[0m \u001b[39melif\u001b[39;00m target_return:\n\u001b[0;32m     <a href='file:///c%3A/Users/yuans/Documents/SynologyDrive/%E5%AE%9E%E4%B9%A0/%E5%9B%BD%E5%90%9B%E8%87%AA%E8%90%A5/%E5%B7%A5%E4%BD%9C/%E5%9B%A0%E5%AD%90%E9%85%8D%E7%BD%AE/codes/factor_portfolio.py?line=60'>61</a>\u001b[0m     _ \u001b[39m=\u001b[39m ef\u001b[39m.\u001b[39mefficient_return(target_return)\n",
      "File \u001b[1;32mc:\\Users\\yuans\\Anaconda3\\envs\\py38\\lib\\site-packages\\pypfopt\\efficient_frontier\\efficient_frontier.py:288\u001b[0m, in \u001b[0;36mEfficientFrontier.max_sharpe\u001b[1;34m(self, risk_free_rate)\u001b[0m\n\u001b[0;32m    <a href='file:///c%3A/Users/yuans/Anaconda3/envs/py38/lib/site-packages/pypfopt/efficient_frontier/efficient_frontier.py?line=280'>281</a>\u001b[0m \u001b[39m# Transformed max_sharpe convex problem:\u001b[39;00m\n\u001b[0;32m    <a href='file:///c%3A/Users/yuans/Anaconda3/envs/py38/lib/site-packages/pypfopt/efficient_frontier/efficient_frontier.py?line=281'>282</a>\u001b[0m \u001b[39mself\u001b[39m\u001b[39m.\u001b[39m_constraints \u001b[39m=\u001b[39m [\n\u001b[0;32m    <a href='file:///c%3A/Users/yuans/Anaconda3/envs/py38/lib/site-packages/pypfopt/efficient_frontier/efficient_frontier.py?line=282'>283</a>\u001b[0m     (\u001b[39mself\u001b[39m\u001b[39m.\u001b[39mexpected_returns \u001b[39m-\u001b[39m risk_free_rate)\u001b[39m.\u001b[39mT \u001b[39m@\u001b[39m \u001b[39mself\u001b[39m\u001b[39m.\u001b[39m_w \u001b[39m==\u001b[39m \u001b[39m1\u001b[39m,\n\u001b[0;32m    <a href='file:///c%3A/Users/yuans/Anaconda3/envs/py38/lib/site-packages/pypfopt/efficient_frontier/efficient_frontier.py?line=283'>284</a>\u001b[0m     cp\u001b[39m.\u001b[39msum(\u001b[39mself\u001b[39m\u001b[39m.\u001b[39m_w) \u001b[39m==\u001b[39m k,\n\u001b[0;32m    <a href='file:///c%3A/Users/yuans/Anaconda3/envs/py38/lib/site-packages/pypfopt/efficient_frontier/efficient_frontier.py?line=284'>285</a>\u001b[0m     k \u001b[39m>\u001b[39m\u001b[39m=\u001b[39m \u001b[39m0\u001b[39m,\n\u001b[0;32m    <a href='file:///c%3A/Users/yuans/Anaconda3/envs/py38/lib/site-packages/pypfopt/efficient_frontier/efficient_frontier.py?line=285'>286</a>\u001b[0m ] \u001b[39m+\u001b[39m new_constraints\n\u001b[1;32m--> <a href='file:///c%3A/Users/yuans/Anaconda3/envs/py38/lib/site-packages/pypfopt/efficient_frontier/efficient_frontier.py?line=287'>288</a>\u001b[0m \u001b[39mself\u001b[39;49m\u001b[39m.\u001b[39;49m_solve_cvxpy_opt_problem()\n\u001b[0;32m    <a href='file:///c%3A/Users/yuans/Anaconda3/envs/py38/lib/site-packages/pypfopt/efficient_frontier/efficient_frontier.py?line=288'>289</a>\u001b[0m \u001b[39m# Inverse-transform\u001b[39;00m\n\u001b[0;32m    <a href='file:///c%3A/Users/yuans/Anaconda3/envs/py38/lib/site-packages/pypfopt/efficient_frontier/efficient_frontier.py?line=289'>290</a>\u001b[0m \u001b[39mself\u001b[39m\u001b[39m.\u001b[39mweights \u001b[39m=\u001b[39m (\u001b[39mself\u001b[39m\u001b[39m.\u001b[39m_w\u001b[39m.\u001b[39mvalue \u001b[39m/\u001b[39m k\u001b[39m.\u001b[39mvalue)\u001b[39m.\u001b[39mround(\u001b[39m16\u001b[39m) \u001b[39m+\u001b[39m \u001b[39m0.0\u001b[39m\n",
      "File \u001b[1;32mc:\\Users\\yuans\\Anaconda3\\envs\\py38\\lib\\site-packages\\pypfopt\\base_optimizer.py:292\u001b[0m, in \u001b[0;36mBaseConvexOptimizer._solve_cvxpy_opt_problem\u001b[1;34m(self)\u001b[0m\n\u001b[0;32m    <a href='file:///c%3A/Users/yuans/Anaconda3/envs/py38/lib/site-packages/pypfopt/base_optimizer.py?line=286'>287</a>\u001b[0m         \u001b[39mif\u001b[39;00m \u001b[39mnot\u001b[39;00m constr_ids \u001b[39m==\u001b[39m \u001b[39mself\u001b[39m\u001b[39m.\u001b[39m_initial_constraint_ids:\n\u001b[0;32m    <a href='file:///c%3A/Users/yuans/Anaconda3/envs/py38/lib/site-packages/pypfopt/base_optimizer.py?line=287'>288</a>\u001b[0m             \u001b[39mraise\u001b[39;00m exceptions\u001b[39m.\u001b[39mInstantiationError(\n\u001b[0;32m    <a href='file:///c%3A/Users/yuans/Anaconda3/envs/py38/lib/site-packages/pypfopt/base_optimizer.py?line=288'>289</a>\u001b[0m                 \u001b[39m\"\u001b[39m\u001b[39mThe constraints were changed after the initial optimization. \u001b[39m\u001b[39m\"\u001b[39m\n\u001b[0;32m    <a href='file:///c%3A/Users/yuans/Anaconda3/envs/py38/lib/site-packages/pypfopt/base_optimizer.py?line=289'>290</a>\u001b[0m                 \u001b[39m\"\u001b[39m\u001b[39mPlease create a new instance instead.\u001b[39m\u001b[39m\"\u001b[39m\n\u001b[0;32m    <a href='file:///c%3A/Users/yuans/Anaconda3/envs/py38/lib/site-packages/pypfopt/base_optimizer.py?line=290'>291</a>\u001b[0m             )\n\u001b[1;32m--> <a href='file:///c%3A/Users/yuans/Anaconda3/envs/py38/lib/site-packages/pypfopt/base_optimizer.py?line=291'>292</a>\u001b[0m     \u001b[39mself\u001b[39;49m\u001b[39m.\u001b[39;49m_opt\u001b[39m.\u001b[39;49msolve(\n\u001b[0;32m    <a href='file:///c%3A/Users/yuans/Anaconda3/envs/py38/lib/site-packages/pypfopt/base_optimizer.py?line=292'>293</a>\u001b[0m         solver\u001b[39m=\u001b[39;49m\u001b[39mself\u001b[39;49m\u001b[39m.\u001b[39;49m_solver, verbose\u001b[39m=\u001b[39;49m\u001b[39mself\u001b[39;49m\u001b[39m.\u001b[39;49m_verbose, \u001b[39m*\u001b[39;49m\u001b[39m*\u001b[39;49m\u001b[39mself\u001b[39;49m\u001b[39m.\u001b[39;49m_solver_options\n\u001b[0;32m    <a href='file:///c%3A/Users/yuans/Anaconda3/envs/py38/lib/site-packages/pypfopt/base_optimizer.py?line=293'>294</a>\u001b[0m     )\n\u001b[0;32m    <a href='file:///c%3A/Users/yuans/Anaconda3/envs/py38/lib/site-packages/pypfopt/base_optimizer.py?line=295'>296</a>\u001b[0m \u001b[39mexcept\u001b[39;00m (\u001b[39mTypeError\u001b[39;00m, cp\u001b[39m.\u001b[39mDCPError) \u001b[39mas\u001b[39;00m e:\n\u001b[0;32m    <a href='file:///c%3A/Users/yuans/Anaconda3/envs/py38/lib/site-packages/pypfopt/base_optimizer.py?line=296'>297</a>\u001b[0m     \u001b[39mraise\u001b[39;00m exceptions\u001b[39m.\u001b[39mOptimizationError \u001b[39mfrom\u001b[39;00m \u001b[39me\u001b[39;00m\n",
      "File \u001b[1;32mc:\\Users\\yuans\\Anaconda3\\envs\\py38\\lib\\site-packages\\cvxpy\\problems\\problem.py:481\u001b[0m, in \u001b[0;36mProblem.solve\u001b[1;34m(self, *args, **kwargs)\u001b[0m\n\u001b[0;32m    <a href='file:///c%3A/Users/yuans/Anaconda3/envs/py38/lib/site-packages/cvxpy/problems/problem.py?line=478'>479</a>\u001b[0m \u001b[39melse\u001b[39;00m:\n\u001b[0;32m    <a href='file:///c%3A/Users/yuans/Anaconda3/envs/py38/lib/site-packages/cvxpy/problems/problem.py?line=479'>480</a>\u001b[0m     solve_func \u001b[39m=\u001b[39m Problem\u001b[39m.\u001b[39m_solve\n\u001b[1;32m--> <a href='file:///c%3A/Users/yuans/Anaconda3/envs/py38/lib/site-packages/cvxpy/problems/problem.py?line=480'>481</a>\u001b[0m \u001b[39mreturn\u001b[39;00m solve_func(\u001b[39mself\u001b[39;49m, \u001b[39m*\u001b[39;49margs, \u001b[39m*\u001b[39;49m\u001b[39m*\u001b[39;49mkwargs)\n",
      "File \u001b[1;32mc:\\Users\\yuans\\Anaconda3\\envs\\py38\\lib\\site-packages\\cvxpy\\problems\\problem.py:1020\u001b[0m, in \u001b[0;36mProblem._solve\u001b[1;34m(self, solver, warm_start, verbose, gp, qcp, requires_grad, enforce_dpp, ignore_dpp, **kwargs)\u001b[0m\n\u001b[0;32m   <a href='file:///c%3A/Users/yuans/Anaconda3/envs/py38/lib/site-packages/cvxpy/problems/problem.py?line=1017'>1018</a>\u001b[0m end \u001b[39m=\u001b[39m time\u001b[39m.\u001b[39mtime()\n\u001b[0;32m   <a href='file:///c%3A/Users/yuans/Anaconda3/envs/py38/lib/site-packages/cvxpy/problems/problem.py?line=1018'>1019</a>\u001b[0m \u001b[39mself\u001b[39m\u001b[39m.\u001b[39m_solve_time \u001b[39m=\u001b[39m end \u001b[39m-\u001b[39m start\n\u001b[1;32m-> <a href='file:///c%3A/Users/yuans/Anaconda3/envs/py38/lib/site-packages/cvxpy/problems/problem.py?line=1019'>1020</a>\u001b[0m \u001b[39mself\u001b[39;49m\u001b[39m.\u001b[39;49munpack_results(solution, solving_chain, inverse_data)\n\u001b[0;32m   <a href='file:///c%3A/Users/yuans/Anaconda3/envs/py38/lib/site-packages/cvxpy/problems/problem.py?line=1020'>1021</a>\u001b[0m \u001b[39mif\u001b[39;00m verbose:\n\u001b[0;32m   <a href='file:///c%3A/Users/yuans/Anaconda3/envs/py38/lib/site-packages/cvxpy/problems/problem.py?line=1021'>1022</a>\u001b[0m     \u001b[39mprint\u001b[39m(_FOOTER)\n",
      "File \u001b[1;32mc:\\Users\\yuans\\Anaconda3\\envs\\py38\\lib\\site-packages\\cvxpy\\problems\\problem.py:1345\u001b[0m, in \u001b[0;36mProblem.unpack_results\u001b[1;34m(self, solution, chain, inverse_data)\u001b[0m\n\u001b[0;32m   <a href='file:///c%3A/Users/yuans/Anaconda3/envs/py38/lib/site-packages/cvxpy/problems/problem.py?line=1342'>1343</a>\u001b[0m     warnings\u001b[39m.\u001b[39mwarn(INF_OR_UNB_MESSAGE)\n\u001b[0;32m   <a href='file:///c%3A/Users/yuans/Anaconda3/envs/py38/lib/site-packages/cvxpy/problems/problem.py?line=1343'>1344</a>\u001b[0m \u001b[39mif\u001b[39;00m solution\u001b[39m.\u001b[39mstatus \u001b[39min\u001b[39;00m s\u001b[39m.\u001b[39mERROR:\n\u001b[1;32m-> <a href='file:///c%3A/Users/yuans/Anaconda3/envs/py38/lib/site-packages/cvxpy/problems/problem.py?line=1344'>1345</a>\u001b[0m     \u001b[39mraise\u001b[39;00m error\u001b[39m.\u001b[39mSolverError(\n\u001b[0;32m   <a href='file:///c%3A/Users/yuans/Anaconda3/envs/py38/lib/site-packages/cvxpy/problems/problem.py?line=1345'>1346</a>\u001b[0m             \u001b[39m\"\u001b[39m\u001b[39mSolver \u001b[39m\u001b[39m'\u001b[39m\u001b[39m%s\u001b[39;00m\u001b[39m'\u001b[39m\u001b[39m failed. \u001b[39m\u001b[39m\"\u001b[39m \u001b[39m%\u001b[39m chain\u001b[39m.\u001b[39msolver\u001b[39m.\u001b[39mname() \u001b[39m+\u001b[39m\n\u001b[0;32m   <a href='file:///c%3A/Users/yuans/Anaconda3/envs/py38/lib/site-packages/cvxpy/problems/problem.py?line=1346'>1347</a>\u001b[0m             \u001b[39m\"\u001b[39m\u001b[39mTry another solver, or solve with verbose=True for more \u001b[39m\u001b[39m\"\u001b[39m\n\u001b[0;32m   <a href='file:///c%3A/Users/yuans/Anaconda3/envs/py38/lib/site-packages/cvxpy/problems/problem.py?line=1347'>1348</a>\u001b[0m             \u001b[39m\"\u001b[39m\u001b[39minformation.\u001b[39m\u001b[39m\"\u001b[39m)\n\u001b[0;32m   <a href='file:///c%3A/Users/yuans/Anaconda3/envs/py38/lib/site-packages/cvxpy/problems/problem.py?line=1349'>1350</a>\u001b[0m \u001b[39mself\u001b[39m\u001b[39m.\u001b[39munpack(solution)\n\u001b[0;32m   <a href='file:///c%3A/Users/yuans/Anaconda3/envs/py38/lib/site-packages/cvxpy/problems/problem.py?line=1350'>1351</a>\u001b[0m \u001b[39mself\u001b[39m\u001b[39m.\u001b[39m_solver_stats \u001b[39m=\u001b[39m SolverStats(\u001b[39mself\u001b[39m\u001b[39m.\u001b[39m_solution\u001b[39m.\u001b[39mattr,\n\u001b[0;32m   <a href='file:///c%3A/Users/yuans/Anaconda3/envs/py38/lib/site-packages/cvxpy/problems/problem.py?line=1351'>1352</a>\u001b[0m                                  chain\u001b[39m.\u001b[39msolver\u001b[39m.\u001b[39mname())\n",
      "\u001b[1;31mSolverError\u001b[0m: Solver 'OSQP' failed. Try another solver, or solve with verbose=True for more information."
     ]
    }
   ],
   "source": [
    "# 最大化sharp比率\n",
    "mvo_alg = MvoAlg('mvo')\n",
    "id_date = datetime(2020, 1, 5)\n",
    "\n",
    "# 向前取多少数据用于计算\n",
    "look_back = constant_svc.DAY_OF_YEAR\n",
    "\n",
    "# 为因子设置日期\n",
    "for factor_obj in factor_dict.values():\n",
    "    factor_obj.setIdDate(id_date, look_back)\n",
    "\n",
    "factor_data = {factor: factor_obj.getUsableNavData() for factor, factor_obj in factor_dict.items()}\n",
    "# logging.debug(factor_data)\n",
    "\n",
    "factor_portfolio = mvo_alg.run(factor_data, returns_data=True, max_sharp=True, verbose=True)\n",
    "logging.debug(factor_portfolio)\n"
   ]
  },
  {
   "cell_type": "markdown",
   "metadata": {},
   "source": [
    "## 3. 配置因子VS配置资产（模型性能比较）"
   ]
  }
 ],
 "metadata": {
  "interpreter": {
   "hash": "2a2a19ddea09eb63f5fb3396b4df9fda5b0a8f8a0e122eead7773c9f07ca9ee4"
  },
  "kernelspec": {
   "display_name": "Python 3.8.13 ('py38')",
   "language": "python",
   "name": "python3"
  },
  "language_info": {
   "codemirror_mode": {
    "name": "ipython",
    "version": 3
   },
   "file_extension": ".py",
   "mimetype": "text/x-python",
   "name": "python",
   "nbconvert_exporter": "python",
   "pygments_lexer": "ipython3",
   "version": "3.8.13"
  },
  "orig_nbformat": 4
 },
 "nbformat": 4,
 "nbformat_minor": 2
}
